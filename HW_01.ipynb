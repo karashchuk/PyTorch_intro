{
 "cells": [
  {
   "cell_type": "code",
   "execution_count": 1,
   "metadata": {},
   "outputs": [],
   "source": [
    "import torch\n",
    "import numpy as np"
   ]
  },
  {
   "cell_type": "code",
   "execution_count": 2,
   "metadata": {},
   "outputs": [],
   "source": [
    "# Создайте случайный FloatTensor размера 3x4x5"
   ]
  },
  {
   "cell_type": "code",
   "execution_count": 2,
   "metadata": {},
   "outputs": [
    {
     "data": {
      "text/plain": [
       "tensor([[[0.2080, 0.6711, 0.8618, 0.9985, 0.9718],\n",
       "         [0.8867, 0.8121, 0.3336, 0.3416, 0.0715],\n",
       "         [0.5436, 0.5743, 0.6416, 0.8343, 0.8963],\n",
       "         [0.0960, 0.1707, 0.9128, 0.6986, 0.0232]],\n",
       "\n",
       "        [[0.4307, 0.1068, 0.7849, 0.6666, 0.6911],\n",
       "         [0.8742, 0.1620, 0.4698, 0.4370, 0.2504],\n",
       "         [0.9323, 0.8253, 0.3815, 0.6575, 0.7341],\n",
       "         [0.2089, 0.4397, 0.5815, 0.8620, 0.3045]],\n",
       "\n",
       "        [[0.5410, 0.4438, 0.1973, 0.7701, 0.3347],\n",
       "         [0.1303, 0.3731, 0.7544, 0.0180, 0.6791],\n",
       "         [0.0452, 0.2064, 0.3004, 0.4050, 0.1065],\n",
       "         [0.6178, 0.3815, 0.8968, 0.5550, 0.1107]]])"
      ]
     },
     "execution_count": 2,
     "metadata": {},
     "output_type": "execute_result"
    }
   ],
   "source": [
    "y = torch.rand(3,4,5)\n",
    "y"
   ]
  },
  {
   "cell_type": "code",
   "execution_count": 3,
   "metadata": {},
   "outputs": [
    {
     "data": {
      "text/plain": [
       "'torch.FloatTensor'"
      ]
     },
     "execution_count": 3,
     "metadata": {},
     "output_type": "execute_result"
    }
   ],
   "source": [
    "y.type()"
   ]
  },
  {
   "cell_type": "code",
   "execution_count": 4,
   "metadata": {},
   "outputs": [
    {
     "data": {
      "text/plain": [
       "torch.Size([3, 4, 5])"
      ]
     },
     "execution_count": 4,
     "metadata": {},
     "output_type": "execute_result"
    }
   ],
   "source": [
    "# Выведите его форму (shape)\n",
    "y.shape"
   ]
  },
  {
   "cell_type": "code",
   "execution_count": 5,
   "metadata": {},
   "outputs": [
    {
     "data": {
      "text/plain": [
       "tensor([[0.2080, 0.6711, 0.8618, 0.9985, 0.9718, 0.8867, 0.8121, 0.3336, 0.3416,\n",
       "         0.0715],\n",
       "        [0.5436, 0.5743, 0.6416, 0.8343, 0.8963, 0.0960, 0.1707, 0.9128, 0.6986,\n",
       "         0.0232],\n",
       "        [0.4307, 0.1068, 0.7849, 0.6666, 0.6911, 0.8742, 0.1620, 0.4698, 0.4370,\n",
       "         0.2504],\n",
       "        [0.9323, 0.8253, 0.3815, 0.6575, 0.7341, 0.2089, 0.4397, 0.5815, 0.8620,\n",
       "         0.3045],\n",
       "        [0.5410, 0.4438, 0.1973, 0.7701, 0.3347, 0.1303, 0.3731, 0.7544, 0.0180,\n",
       "         0.6791],\n",
       "        [0.0452, 0.2064, 0.3004, 0.4050, 0.1065, 0.6178, 0.3815, 0.8968, 0.5550,\n",
       "         0.1107]])"
      ]
     },
     "execution_count": 5,
     "metadata": {},
     "output_type": "execute_result"
    }
   ],
   "source": [
    "# Приведите его к форме 6 X 10\n",
    "y1 = y.reshape([6,10])\n",
    "y1"
   ]
  },
  {
   "cell_type": "code",
   "execution_count": 6,
   "metadata": {},
   "outputs": [
    {
     "data": {
      "text/plain": [
       "tensor([[0.2080, 2.6843, 1.7236, 1.9970, 0.9718, 0.8867, 3.2483, 0.6673, 0.6832,\n",
       "         0.0715],\n",
       "        [0.5436, 2.2972, 1.2831, 1.6686, 0.8963, 0.0960, 0.6828, 1.8257, 1.3971,\n",
       "         0.0232],\n",
       "        [0.4307, 0.4271, 1.5698, 1.3332, 0.6911, 0.8742, 0.6480, 0.9396, 0.8740,\n",
       "         0.2504],\n",
       "        [0.9323, 3.3011, 0.7630, 1.3149, 0.7341, 0.2089, 1.7588, 1.1630, 1.7240,\n",
       "         0.3045],\n",
       "        [0.5410, 1.7753, 0.3945, 1.5403, 0.3347, 0.1303, 1.4923, 1.5087, 0.0360,\n",
       "         0.6791],\n",
       "        [0.0452, 0.8256, 0.6009, 0.8100, 0.1065, 0.6178, 1.5261, 1.7936, 1.1099,\n",
       "         0.1107]])"
      ]
     },
     "execution_count": 6,
     "metadata": {},
     "output_type": "execute_result"
    }
   ],
   "source": [
    "# Умножьте его на вектор [1, 4, 2, 2, 1] поэлементно\n",
    "y2 = y1 * torch.Tensor ([1, 4, 2, 2, 1, 1, 4, 2, 2, 1])\n",
    "y2\n"
   ]
  },
  {
   "cell_type": "code",
   "execution_count": 7,
   "metadata": {},
   "outputs": [
    {
     "data": {
      "text/plain": [
       "tensor([[[0.2080, 2.6843, 1.7236, 1.9970, 0.9718],\n",
       "         [0.8867, 3.2483, 0.6673, 0.6832, 0.0715],\n",
       "         [0.5436, 2.2972, 1.2831, 1.6686, 0.8963],\n",
       "         [0.0960, 0.6828, 1.8257, 1.3971, 0.0232]],\n",
       "\n",
       "        [[0.4307, 0.4271, 1.5698, 1.3332, 0.6911],\n",
       "         [0.8742, 0.6480, 0.9396, 0.8740, 0.2504],\n",
       "         [0.9323, 3.3011, 0.7630, 1.3149, 0.7341],\n",
       "         [0.2089, 1.7588, 1.1630, 1.7240, 0.3045]],\n",
       "\n",
       "        [[0.5410, 1.7753, 0.3945, 1.5403, 0.3347],\n",
       "         [0.1303, 1.4923, 1.5087, 0.0360, 0.6791],\n",
       "         [0.0452, 0.8256, 0.6009, 0.8100, 0.1065],\n",
       "         [0.6178, 1.5261, 1.7936, 1.1099, 0.1107]]])"
      ]
     },
     "execution_count": 7,
     "metadata": {},
     "output_type": "execute_result"
    }
   ],
   "source": [
    "y22 = y * torch.Tensor([1, 4, 2, 2, 1] )\n",
    "y22"
   ]
  },
  {
   "cell_type": "code",
   "execution_count": 8,
   "metadata": {},
   "outputs": [
    {
     "data": {
      "text/plain": [
       "tensor([[27.4072, 17.1718, 11.3978, 21.5836, 15.0021, 12.4504],\n",
       "        [17.1718, 16.5677,  9.5421, 17.6811, 11.6005, 10.0681],\n",
       "        [11.3978,  9.5421,  7.9808,  9.2676,  6.5952,  6.6807],\n",
       "        [21.5836, 17.6811,  9.2676, 22.1712, 13.6122, 11.2154],\n",
       "        [15.0021, 11.6005,  6.5952, 13.6122, 11.0671,  8.1895],\n",
       "        [12.4504, 10.0681,  6.6807, 11.2154,  8.1895,  8.8840]])"
      ]
     },
     "execution_count": 8,
     "metadata": {},
     "output_type": "execute_result"
    }
   ],
   "source": [
    "# Умножьте тензор матрично на себя, чтобы результат был размерности 6x6\n",
    "y3 = y2 @ torch.transpose(y2,0,1)\n",
    "y3"
   ]
  },
  {
   "cell_type": "code",
   "execution_count": 9,
   "metadata": {},
   "outputs": [
    {
     "data": {
      "text/plain": [
       "tensor([[27.4072, 17.1718, 11.3978, 21.5836, 15.0021, 12.4504],\n",
       "        [17.1718, 16.5677,  9.5421, 17.6811, 11.6005, 10.0681],\n",
       "        [11.3978,  9.5421,  7.9808,  9.2676,  6.5952,  6.6807],\n",
       "        [21.5836, 17.6811,  9.2676, 22.1712, 13.6122, 11.2154],\n",
       "        [15.0021, 11.6005,  6.5952, 13.6122, 11.0671,  8.1895],\n",
       "        [12.4504, 10.0681,  6.6807, 11.2154,  8.1895,  8.8840]])"
      ]
     },
     "execution_count": 9,
     "metadata": {},
     "output_type": "execute_result"
    }
   ],
   "source": [
    "y3 = y2 @ y2.T\n",
    "y3"
   ]
  },
  {
   "cell_type": "code",
   "execution_count": 13,
   "metadata": {},
   "outputs": [],
   "source": [
    "# Посчитайте производную функции y = x**3 + z - 75t в точке (1, 0.5, 2)\n",
    "from torch.autograd import Variable\n"
   ]
  },
  {
   "cell_type": "code",
   "execution_count": 23,
   "metadata": {},
   "outputs": [],
   "source": [
    "x = Variable(torch.Tensor([1.]), requires_grad = True)\n",
    "z = Variable(torch.Tensor([0.5]), requires_grad = True)\n",
    "t = Variable(torch.Tensor([2.]), requires_grad = True)\n",
    "y = x**3 + z - 75*t"
   ]
  },
  {
   "cell_type": "code",
   "execution_count": 24,
   "metadata": {},
   "outputs": [],
   "source": [
    "y.backward()"
   ]
  },
  {
   "cell_type": "code",
   "execution_count": 25,
   "metadata": {},
   "outputs": [
    {
     "data": {
      "text/plain": [
       "(tensor([3.]), tensor([1.]), tensor([-75.]))"
      ]
     },
     "execution_count": 25,
     "metadata": {},
     "output_type": "execute_result"
    }
   ],
   "source": [
    "x.grad,z.grad,t.grad"
   ]
  },
  {
   "cell_type": "code",
   "execution_count": 27,
   "metadata": {},
   "outputs": [
    {
     "data": {
      "text/plain": [
       "tensor([[1., 1., 1., 1., 1., 1.],\n",
       "        [1., 1., 1., 1., 1., 1.],\n",
       "        [1., 1., 1., 1., 1., 1.],\n",
       "        [1., 1., 1., 1., 1., 1.],\n",
       "        [1., 1., 1., 1., 1., 1.]])"
      ]
     },
     "execution_count": 27,
     "metadata": {},
     "output_type": "execute_result"
    }
   ],
   "source": [
    "# Создайте единичный тензор размера 5x6\n",
    "x1 = torch.ones([5,6])\n",
    "x1"
   ]
  },
  {
   "cell_type": "code",
   "execution_count": 28,
   "metadata": {},
   "outputs": [
    {
     "data": {
      "text/plain": [
       "array([[1., 1., 1., 1., 1., 1.],\n",
       "       [1., 1., 1., 1., 1., 1.],\n",
       "       [1., 1., 1., 1., 1., 1.],\n",
       "       [1., 1., 1., 1., 1., 1.],\n",
       "       [1., 1., 1., 1., 1., 1.]], dtype=float32)"
      ]
     },
     "execution_count": 28,
     "metadata": {},
     "output_type": "execute_result"
    }
   ],
   "source": [
    "# Переведите его в формат numpy\n",
    "x2 = x1.numpy()\n",
    "x2"
   ]
  },
  {
   "cell_type": "code",
   "execution_count": null,
   "metadata": {},
   "outputs": [],
   "source": [
    "# Давайте теперь пооптимизируем: возьмите функцию y = x**w1 - 2 * x**2 + 5\n",
    "# Посчитайте "
   ]
  },
  {
   "cell_type": "code",
   "execution_count": 148,
   "metadata": {},
   "outputs": [],
   "source": [
    "from torch import nn \n",
    "from torch import optim"
   ]
  },
  {
   "cell_type": "code",
   "execution_count": 243,
   "metadata": {},
   "outputs": [
    {
     "name": "stdout",
     "output_type": "stream",
     "text": [
      "w:  Parameter containing:\n",
      "tensor([[ 0.0949,  0.4834,  0.4833],\n",
      "        [ 0.2409, -0.3735,  0.3468],\n",
      "        [ 0.0575,  0.4902, -0.4259]], requires_grad=True)\n",
      "b:  Parameter containing:\n",
      "tensor([-0.4142,  0.2568, -0.3520], requires_grad=True)\n"
     ]
    }
   ],
   "source": [
    "linear = nn.Linear(3, 3)\n",
    "print ('w: ', linear.weight)\n",
    "print ('b: ', linear.bias)"
   ]
  },
  {
   "cell_type": "code",
   "execution_count": 244,
   "metadata": {},
   "outputs": [],
   "source": [
    "criterion = nn.MSELoss()\n",
    "optimizer = torch.optim.SGD(linear.parameters(), lr=0.001)"
   ]
  },
  {
   "cell_type": "code",
   "execution_count": 245,
   "metadata": {},
   "outputs": [],
   "source": [
    "x = Variable(torch.randn(3), requires_grad = True)\n",
    "y = x**linear.weight - 2 * x**2 + 5"
   ]
  },
  {
   "cell_type": "code",
   "execution_count": 246,
   "metadata": {},
   "outputs": [
    {
     "name": "stdout",
     "output_type": "stream",
     "text": [
      "loss:  15.553821563720703\n"
     ]
    }
   ],
   "source": [
    "optimizer.zero_grad()\n",
    "pred = linear(x)\n",
    "loss = criterion(pred, y)\n",
    "print('loss: ', loss.item())"
   ]
  },
  {
   "cell_type": "code",
   "execution_count": 247,
   "metadata": {},
   "outputs": [],
   "source": [
    "loss.backward()"
   ]
  },
  {
   "cell_type": "code",
   "execution_count": 248,
   "metadata": {},
   "outputs": [
    {
     "name": "stdout",
     "output_type": "stream",
     "text": [
      "dL/dw:  tensor([[-0.8429, -0.8415, -0.6359],\n",
      "        [-4.8588, -2.8966, -3.0437],\n",
      "        [-4.8208, -1.7908, -3.0172]])\n",
      "dL/db:  tensor([-0.6022, -3.2040, -3.1688])\n"
     ]
    }
   ],
   "source": [
    "print ('dL/dw: ', linear.weight.grad) \n",
    "print ('dL/db: ', linear.bias.grad)"
   ]
  },
  {
   "cell_type": "code",
   "execution_count": 249,
   "metadata": {},
   "outputs": [
    {
     "name": "stdout",
     "output_type": "stream",
     "text": [
      "w:  Parameter containing:\n",
      "tensor([[ 0.0949,  0.4834,  0.4833],\n",
      "        [ 0.2409, -0.3735,  0.3468],\n",
      "        [ 0.0575,  0.4902, -0.4259]], requires_grad=True)\n",
      "b:  Parameter containing:\n",
      "tensor([-0.4142,  0.2568, -0.3520], requires_grad=True)\n"
     ]
    }
   ],
   "source": [
    "print ('w: ', linear.weight)\n",
    "print ('b: ', linear.bias)"
   ]
  },
  {
   "cell_type": "code",
   "execution_count": 250,
   "metadata": {},
   "outputs": [
    {
     "name": "stdout",
     "output_type": "stream",
     "text": [
      "w:  Parameter containing:\n",
      "tensor([[ 0.0957,  0.4843,  0.4839],\n",
      "        [ 0.2457, -0.3706,  0.3499],\n",
      "        [ 0.0624,  0.4920, -0.4229]], requires_grad=True)\n",
      "b:  Parameter containing:\n",
      "tensor([-0.4136,  0.2601, -0.3489], requires_grad=True)\n"
     ]
    }
   ],
   "source": [
    "optimizer.step()\n",
    "print ('w: ', linear.weight)\n",
    "print ('b: ', linear.bias)"
   ]
  },
  {
   "cell_type": "code",
   "execution_count": 251,
   "metadata": {},
   "outputs": [
    {
     "name": "stdout",
     "output_type": "stream",
     "text": [
      "w:  Parameter containing:\n",
      "tensor([[ 0.0966,  0.4851,  0.4845],\n",
      "        [ 0.2506, -0.3677,  0.3529],\n",
      "        [ 0.0672,  0.4938, -0.4199]], requires_grad=True)\n",
      "b:  Parameter containing:\n",
      "tensor([-0.4130,  0.2633, -0.3457], requires_grad=True)\n"
     ]
    }
   ],
   "source": [
    "optimizer.step()\n",
    "print ('w: ', linear.weight)\n",
    "print ('b: ', linear.bias)"
   ]
  },
  {
   "cell_type": "code",
   "execution_count": 252,
   "metadata": {},
   "outputs": [
    {
     "name": "stdout",
     "output_type": "stream",
     "text": [
      "w:  Parameter containing:\n",
      "tensor([[ 0.0974,  0.4860,  0.4852],\n",
      "        [ 0.2555, -0.3648,  0.3560],\n",
      "        [ 0.0720,  0.4956, -0.4168]], requires_grad=True)\n",
      "b:  Parameter containing:\n",
      "tensor([-0.4124,  0.2665, -0.3425], requires_grad=True)\n"
     ]
    }
   ],
   "source": [
    "optimizer.step()\n",
    "print ('w: ', linear.weight)\n",
    "print ('b: ', linear.bias)"
   ]
  },
  {
   "cell_type": "code",
   "execution_count": null,
   "metadata": {},
   "outputs": [],
   "source": []
  }
 ],
 "metadata": {
  "kernelspec": {
   "display_name": "Python 3",
   "language": "python",
   "name": "python3"
  },
  "language_info": {
   "codemirror_mode": {
    "name": "ipython",
    "version": 3
   },
   "file_extension": ".py",
   "mimetype": "text/x-python",
   "name": "python",
   "nbconvert_exporter": "python",
   "pygments_lexer": "ipython3",
   "version": "3.7.3"
  }
 },
 "nbformat": 4,
 "nbformat_minor": 2
}
